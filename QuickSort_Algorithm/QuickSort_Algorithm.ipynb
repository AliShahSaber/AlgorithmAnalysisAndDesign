{
 "cells": [
  {
   "cell_type": "code",
   "execution_count": 1,
   "id": "fa322d1e",
   "metadata": {},
   "outputs": [],
   "source": [
    "# QuickSort Algorithm \n",
    "# This code is written and contributed by Ali Shah Saber"
   ]
  },
  {
   "cell_type": "code",
   "execution_count": 2,
   "id": "358f88df",
   "metadata": {},
   "outputs": [],
   "source": [
    "# function for partitioning process \n",
    "def partition(arr, low, high):\n",
    "    # the last element of array has choosen as pivot \n",
    "    pivot = arr[high]\n",
    "    i = low-1 \n",
    "    for j in range(low, high):\n",
    "        if arr[j]<=pivot:\n",
    "            i = i+1\n",
    "            (arr[i], arr[j]) = (arr[j], arr[i])\n",
    "    (arr[i+1], arr[high]) = (arr[high], arr[i+1])\n",
    "    return i+1"
   ]
  },
  {
   "cell_type": "code",
   "execution_count": 3,
   "id": "bba7679e",
   "metadata": {},
   "outputs": [],
   "source": [
    "# applying quick sort recursively to left and right based on choosen pivot\n",
    "def quicksort(arr, low, high):\n",
    "    if low<high:\n",
    "        pi = partition(arr, low, high)\n",
    "        quicksort(arr, low, pi-1)\n",
    "        quicksort(arr, pi+1, high)"
   ]
  },
  {
   "cell_type": "code",
   "execution_count": 4,
   "id": "d3568fe1",
   "metadata": {},
   "outputs": [
    {
     "name": "stdout",
     "output_type": "stream",
     "text": [
      "Array before Applying Quicksort: \n",
      " [14, 8, 9, 11, 1, 3, 6, 15]\n",
      "Array after Applying Quicksort: \n",
      " [1, 3, 6, 8, 9, 11, 14, 15]\n"
     ]
    }
   ],
   "source": [
    "# Testing Quicksort Algorithm with Sample Data\n",
    "a = [14, 8, 9, 11, 1, 3, 6, 15]\n",
    "print(\"Array before Applying Quicksort: \\n\", a)\n",
    "quicksort(a, 0, len(a)-1)\n",
    "print(\"Array after Applying Quicksort: \\n\", a)\n",
    "\n"
   ]
  }
 ],
 "metadata": {
  "kernelspec": {
   "display_name": "Python 3 (ipykernel)",
   "language": "python",
   "name": "python3"
  },
  "language_info": {
   "codemirror_mode": {
    "name": "ipython",
    "version": 3
   },
   "file_extension": ".py",
   "mimetype": "text/x-python",
   "name": "python",
   "nbconvert_exporter": "python",
   "pygments_lexer": "ipython3",
   "version": "3.9.12"
  }
 },
 "nbformat": 4,
 "nbformat_minor": 5
}
