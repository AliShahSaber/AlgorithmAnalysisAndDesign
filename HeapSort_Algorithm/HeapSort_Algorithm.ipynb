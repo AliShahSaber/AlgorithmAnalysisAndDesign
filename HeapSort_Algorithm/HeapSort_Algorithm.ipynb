{
 "cells": [
  {
   "cell_type": "code",
   "execution_count": 1,
   "id": "9633b9dd",
   "metadata": {},
   "outputs": [],
   "source": [
    "# HeapSort Algorithm\n",
    "# This code is written and contributed by Ali Shah Saber"
   ]
  },
  {
   "cell_type": "code",
   "execution_count": 2,
   "id": "273a0286",
   "metadata": {},
   "outputs": [],
   "source": [
    "# The Heapify Function \n",
    "def heapify(arr, n, i):\n",
    "    largest = i\n",
    "    l = 2*i+1\n",
    "    r = 2*i+2\n",
    "    if l<n and arr[i]<arr[l]:\n",
    "        largest = l\n",
    "    if r<n and arr[largest]<arr[r]:\n",
    "        largest = r\n",
    "    if largest != i:\n",
    "        (arr[i], arr[largest]) = (arr[largest], arr[i])\n",
    "        heapify(arr, n, largest)"
   ]
  },
  {
   "cell_type": "code",
   "execution_count": 3,
   "id": "02b3252a",
   "metadata": {},
   "outputs": [],
   "source": [
    "# The general heapsort function \n",
    "def heapsort(arr):\n",
    "    n = len(arr)\n",
    "    for i in range(n//2, -1, -1):\n",
    "        heapify(arr, n, i)\n",
    "    for i in range(n-1,0, -1):\n",
    "        (arr[i], arr[0]) = (arr[0], arr[i])\n",
    "        heapify(arr, i, 0)"
   ]
  },
  {
   "cell_type": "code",
   "execution_count": 4,
   "id": "519544ca",
   "metadata": {},
   "outputs": [
    {
     "name": "stdout",
     "output_type": "stream",
     "text": [
      "Array before Applying HeapSort (Original Array): \n",
      " [12, 5, 7, 13, 90, 555, 4, 87, 20, 4, 20]\n",
      "Array after Applying HeapSort (Sorted Array): \n",
      " [4, 4, 5, 7, 12, 13, 20, 20, 87, 90, 555]\n"
     ]
    }
   ],
   "source": [
    "# Testing our HeapSort Algorithm\n",
    "arr =  [12,5,7, 13,90, 555, 4, 87, 20, 4, 20]\n",
    "print(\"Array before Applying HeapSort (Original Array): \\n\", arr)\n",
    "heapsort(arr)\n",
    "print(\"Array after Applying HeapSort (Sorted Array): \\n\", arr)"
   ]
  }
 ],
 "metadata": {
  "kernelspec": {
   "display_name": "Python 3 (ipykernel)",
   "language": "python",
   "name": "python3"
  },
  "language_info": {
   "codemirror_mode": {
    "name": "ipython",
    "version": 3
   },
   "file_extension": ".py",
   "mimetype": "text/x-python",
   "name": "python",
   "nbconvert_exporter": "python",
   "pygments_lexer": "ipython3",
   "version": "3.9.12"
  }
 },
 "nbformat": 4,
 "nbformat_minor": 5
}
