{
 "cells": [
  {
   "cell_type": "code",
   "execution_count": 2,
   "id": "daec81ba",
   "metadata": {},
   "outputs": [],
   "source": [
    "# Fractional Knapsack Algorithm\n",
    "# This code is written and contributed by Ali Shah Saber"
   ]
  },
  {
   "cell_type": "code",
   "execution_count": 1,
   "id": "2f0df09a",
   "metadata": {},
   "outputs": [
    {
     "data": {
      "text/plain": [
       "31.5"
      ]
     },
     "execution_count": 1,
     "metadata": {},
     "output_type": "execute_result"
    }
   ],
   "source": [
    "# Firstly, the Objects class accepts objects (pairs of profit with related weight)\n",
    "class Objects:\n",
    "    def __init__(self, profit, weight):\n",
    "        self.profit = profit\n",
    "        self.weight = weight\n",
    "# this function results the final profit for us based on related capacity\n",
    "def fractionalkp(capacity, arr):\n",
    "    arr.sort(key = lambda x: (x.profit/x.weight), reverse = True)\n",
    "    FinalProfit = 0.0\n",
    "    for item in arr:\n",
    "        if item.weight <= capacity:\n",
    "            FinalProfit += item.profit\n",
    "            capacity -= item.weight\n",
    "        else:\n",
    "            FinalProfit += (item.profit * capacity) / item.weight\n",
    "            break\n",
    "    return FinalProfit\n",
    "capacity = 20\n",
    "arr = [Objects(25,18), Objects(24,15), Objects(15,10)]\n",
    "fractionalkp(capacity, arr)"
   ]
  }
 ],
 "metadata": {
  "kernelspec": {
   "display_name": "Python 3 (ipykernel)",
   "language": "python",
   "name": "python3"
  },
  "language_info": {
   "codemirror_mode": {
    "name": "ipython",
    "version": 3
   },
   "file_extension": ".py",
   "mimetype": "text/x-python",
   "name": "python",
   "nbconvert_exporter": "python",
   "pygments_lexer": "ipython3",
   "version": "3.9.12"
  }
 },
 "nbformat": 4,
 "nbformat_minor": 5
}
