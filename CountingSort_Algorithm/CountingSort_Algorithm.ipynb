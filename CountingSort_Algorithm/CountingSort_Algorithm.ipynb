{
 "cells": [
  {
   "cell_type": "code",
   "execution_count": 1,
   "id": "aac5690a",
   "metadata": {},
   "outputs": [],
   "source": [
    "# CountingSort Algorithm \n",
    "# This code is written and contributed by Ali Shah Saber"
   ]
  },
  {
   "cell_type": "code",
   "execution_count": 2,
   "id": "91626bdd",
   "metadata": {},
   "outputs": [],
   "source": [
    "# The function of counting sort algorithm\n",
    "def countingsort(arr, k):\n",
    "    size = len(arr)\n",
    "    output = [0]*size\n",
    "    count = [0]*k\n",
    "    for i in range(0, size):\n",
    "        count[arr[i]]+=1\n",
    "    for i in range(1, k):\n",
    "        count[i] += count[i-1]\n",
    "    i = size-1\n",
    "    while(i>=0):\n",
    "        output[count[arr[i]]-1] = arr[i]\n",
    "        count[arr[i]] -=1\n",
    "        i -=1\n",
    "    for i in range(0, size):\n",
    "        arr[i] = output[i]"
   ]
  },
  {
   "cell_type": "code",
   "execution_count": 3,
   "id": "eabb9311",
   "metadata": {},
   "outputs": [
    {
     "name": "stdout",
     "output_type": "stream",
     "text": [
      "before applying CountingSort (Original Array): \n",
      " [5, 7, 8, 9, 1, 3, 3, 7, 1, 19, 17]\n",
      "after applying CountingSort (Sorted Array): \n",
      " [1, 1, 3, 3, 5, 7, 7, 8, 9, 17, 19]\n"
     ]
    }
   ],
   "source": [
    "# Tesing our CountingSort Algorithm with sample data\n",
    "a = [5,7,8,9,1,3,3,7,1, 19,17]\n",
    "print(\"before applying CountingSort (Original Array): \\n\", a)\n",
    "countingsort(a,20)\n",
    "print(\"after applying CountingSort (Sorted Array): \\n\", a)"
   ]
  }
 ],
 "metadata": {
  "kernelspec": {
   "display_name": "Python 3 (ipykernel)",
   "language": "python",
   "name": "python3"
  },
  "language_info": {
   "codemirror_mode": {
    "name": "ipython",
    "version": 3
   },
   "file_extension": ".py",
   "mimetype": "text/x-python",
   "name": "python",
   "nbconvert_exporter": "python",
   "pygments_lexer": "ipython3",
   "version": "3.9.12"
  }
 },
 "nbformat": 4,
 "nbformat_minor": 5
}
