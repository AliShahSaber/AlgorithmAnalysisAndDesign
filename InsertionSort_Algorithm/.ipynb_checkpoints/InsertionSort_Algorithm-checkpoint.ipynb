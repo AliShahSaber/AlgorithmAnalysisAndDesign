{
 "cells": [
  {
   "cell_type": "code",
   "execution_count": 1,
   "id": "974cb443",
   "metadata": {},
   "outputs": [],
   "source": [
    "# Insertion Sort Algorithm \n",
    "# This code is written and contributed by Ali Shah Saber"
   ]
  },
  {
   "cell_type": "code",
   "execution_count": 2,
   "id": "696093f9",
   "metadata": {},
   "outputs": [],
   "source": [
    "# Two loop is needed for iterating on ar\n",
    "def insertionSort(arr):\n",
    "    for i in range(1, len(arr)):\n",
    "        key = arr[i]\n",
    "        j = i-1\n",
    "        while j>=0 and key <arr[j]:\n",
    "            arr[j+1] = arr[j]\n",
    "            j -= 1\n",
    "        arr[j+1] = key"
   ]
  },
  {
   "cell_type": "code",
   "execution_count": 3,
   "id": "251ecf3f",
   "metadata": {},
   "outputs": [],
   "source": [
    "# The process of merging\n",
    "def merge(arr, leftsubarr, rightsubarr):\n",
    "    i = 0\n",
    "    j = 0\n",
    "    k = 0\n",
    "    while i<len(leftsubarr) and j< len(rightsubarr):\n",
    "        if leftsubarr[i]<=rightsubarr[j]:\n",
    "            arr[k] = leftsubarr[i]\n",
    "            i = i+1\n",
    "        else:\n",
    "            arr[k] = rightsubarr[j]\n",
    "            j = j+1\n",
    "        k = k+1\n",
    "    while i<len(leftsubarr):\n",
    "        arr[k] = leftsubarr[i]\n",
    "        i = i+1\n",
    "        k = k+1\n",
    "    while j<len(rightsubarr):\n",
    "        arr[k] = rightsubarr[j]\n",
    "        j = j+1\n",
    "        k = k+1"
   ]
  },
  {
   "cell_type": "code",
   "execution_count": 4,
   "id": "3f5b827c",
   "metadata": {},
   "outputs": [
    {
     "name": "stdout",
     "output_type": "stream",
     "text": [
      "Before Applying Mergesort (Original Array): \n",
      " [78, 2, 9, 76, 90, 12, 45]\n",
      "After Applying Mergesort (Sorted Array): \n",
      " [2, 9, 12, 45, 76, 78, 90]\n"
     ]
    }
   ],
   "source": [
    "# Testing with Sample Data\n",
    "a = [78,2, 9, 76, 90, 12, 45]\n",
    "print(\"Before Applying Mergesort (Original Array): \\n\", a)\n",
    "mergesort(a)\n",
    "print(\"After Applying Mergesort (Sorted Array): \\n\", a)"
   ]
  }
 ],
 "metadata": {
  "kernelspec": {
   "display_name": "Python 3 (ipykernel)",
   "language": "python",
   "name": "python3"
  },
  "language_info": {
   "codemirror_mode": {
    "name": "ipython",
    "version": 3
   },
   "file_extension": ".py",
   "mimetype": "text/x-python",
   "name": "python",
   "nbconvert_exporter": "python",
   "pygments_lexer": "ipython3",
   "version": "3.9.12"
  }
 },
 "nbformat": 4,
 "nbformat_minor": 5
}
