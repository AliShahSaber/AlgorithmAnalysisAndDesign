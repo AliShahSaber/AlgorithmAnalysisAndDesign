{
 "cells": [
  {
   "cell_type": "code",
   "execution_count": 1,
   "id": "974cb443",
   "metadata": {},
   "outputs": [],
   "source": [
    "# Insertion Sort Algorithm \n",
    "# This code is written and contributed by Ali Shah Saber"
   ]
  },
  {
   "cell_type": "code",
   "execution_count": 2,
   "id": "696093f9",
   "metadata": {},
   "outputs": [],
   "source": [
    "# Two loop is needed: \n",
    "# (1) for iterating on entire array, and \n",
    "# (2) another because of swapping if needed \n",
    "def insertionSort(arr):\n",
    "    for i in range(1, len(arr)):\n",
    "        key = arr[i]\n",
    "        j = i-1\n",
    "        while j>=0 and key <arr[j]:\n",
    "            arr[j+1] = arr[j]\n",
    "            j -= 1\n",
    "        arr[j+1] = key"
   ]
  },
  {
   "cell_type": "code",
   "execution_count": 3,
   "id": "3f5b827c",
   "metadata": {},
   "outputs": [
    {
     "name": "stdout",
     "output_type": "stream",
     "text": [
      "Before Applying Insertion Sort (Original Array): \n",
      " [5, 2, 4, 6, 1, 3]\n",
      "After Applying Insertion Sort (Sorted Array): \n",
      " [1, 2, 3, 4, 5, 6]\n"
     ]
    }
   ],
   "source": [
    "# Testing with Sample Data\n",
    "array_list = [5,2,4,6,1,3]\n",
    "print(\"Before Applying Insertion Sort (Original Array): \\n\", array_list)\n",
    "insertionSort(array_list)\n",
    "print(\"After Applying Insertion Sort (Sorted Array): \\n\", array_list)"
   ]
  }
 ],
 "metadata": {
  "kernelspec": {
   "display_name": "Python 3 (ipykernel)",
   "language": "python",
   "name": "python3"
  },
  "language_info": {
   "codemirror_mode": {
    "name": "ipython",
    "version": 3
   },
   "file_extension": ".py",
   "mimetype": "text/x-python",
   "name": "python",
   "nbconvert_exporter": "python",
   "pygments_lexer": "ipython3",
   "version": "3.9.12"
  }
 },
 "nbformat": 4,
 "nbformat_minor": 5
}
