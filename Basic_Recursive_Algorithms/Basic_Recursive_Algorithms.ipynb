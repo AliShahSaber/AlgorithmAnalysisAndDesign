{
 "cells": [
  {
   "cell_type": "code",
   "execution_count": 1,
   "id": "bb090159",
   "metadata": {},
   "outputs": [],
   "source": [
    "# Recursive Algorithms Basics (Here is writtem some basic recursive algorithms)\n",
    "# This code is written and contributed by Ali Shah Saber"
   ]
  },
  {
   "cell_type": "code",
   "execution_count": 3,
   "id": "6022a4bc",
   "metadata": {},
   "outputs": [
    {
     "data": {
      "text/plain": [
       "81"
      ]
     },
     "execution_count": 3,
     "metadata": {},
     "output_type": "execute_result"
    }
   ],
   "source": [
    "# Function for finding the power for a number\n",
    "def powerFuction(x, y):\n",
    "    if (y==0):\n",
    "        return 1\n",
    "    else:\n",
    "        return x*powerFuction(x, y-1)\n",
    "# Tesing PowerFuction with sample data\n",
    "powerFuction(3,4)"
   ]
  },
  {
   "cell_type": "code",
   "execution_count": 4,
   "id": "59f6cdc2",
   "metadata": {},
   "outputs": [
    {
     "data": {
      "text/plain": [
       "13"
      ]
     },
     "execution_count": 4,
     "metadata": {},
     "output_type": "execute_result"
    }
   ],
   "source": [
    "# Function for finding Fibonacci Numbers\n",
    "def fibonacciNumbers(n):\n",
    "    if (n==0):\n",
    "        return 0\n",
    "    elif (n==1):\n",
    "        return 1\n",
    "    else:\n",
    "        return fibonacciNumbers(n-1)+fibonacciNumbers(n-2)\n",
    "# Tesing fibonacciNumbers function with sample data\n",
    "fibonacciNumbers(7)"
   ]
  },
  {
   "cell_type": "code",
   "execution_count": 5,
   "id": "d5b63fa6",
   "metadata": {},
   "outputs": [
    {
     "data": {
      "text/plain": [
       "5040"
      ]
     },
     "execution_count": 5,
     "metadata": {},
     "output_type": "execute_result"
    }
   ],
   "source": [
    "# Function for finding factorial of numbers\n",
    "def factorial(n):\n",
    "    if (n==0):\n",
    "        return 1\n",
    "    else:\n",
    "        return n*factorial(n-1)\n",
    "# Tesing factorial function with sample data\n",
    "factorial(7)"
   ]
  }
 ],
 "metadata": {
  "kernelspec": {
   "display_name": "Python 3 (ipykernel)",
   "language": "python",
   "name": "python3"
  },
  "language_info": {
   "codemirror_mode": {
    "name": "ipython",
    "version": 3
   },
   "file_extension": ".py",
   "mimetype": "text/x-python",
   "name": "python",
   "nbconvert_exporter": "python",
   "pygments_lexer": "ipython3",
   "version": "3.9.12"
  }
 },
 "nbformat": 4,
 "nbformat_minor": 5
}
