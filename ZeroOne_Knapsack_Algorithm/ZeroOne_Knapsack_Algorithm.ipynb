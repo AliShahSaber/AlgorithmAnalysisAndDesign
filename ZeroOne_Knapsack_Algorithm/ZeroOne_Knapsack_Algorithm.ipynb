{
 "cells": [
  {
   "cell_type": "code",
   "execution_count": null,
   "id": "61f6e720",
   "metadata": {},
   "outputs": [],
   "source": [
    "# Zero-One(0-1) Knapsack Algorithm (Using Dynamic Programming)\n",
    "# This code is written and contributed by Ali Shah Saber"
   ]
  },
  {
   "cell_type": "code",
   "execution_count": 1,
   "id": "32f4d5a1",
   "metadata": {},
   "outputs": [],
   "source": [
    "# capacity is maximum capacity to choose, and n is number of objects\n",
    "def ZeroOneKnapsack_Algorithm(capacity, weights, profits, n):\n",
    "    Matrix = [[0] * (capacity+1) for i in range (n+1)]\n",
    "    for i in range(n+1):\n",
    "        for j in range(capacity+1):\n",
    "            if(i == 0 or j == 0):\n",
    "                Matrix[i][j] = 0\n",
    "            elif(weights[i-1] <= j):\n",
    "                Matrix[i][j] = max(profits[i-1] + Matrix[i-1][j-weights[i-1]], Matrix[i-1][j])\n",
    "            else:\n",
    "                Matrix[i][j] = Matrix[i-1][j]\n",
    "    for k in Matrix:\n",
    "        print(k)\n",
    "    return Matrix[n][capacity]"
   ]
  },
  {
   "cell_type": "code",
   "execution_count": 3,
   "id": "b7f507cf",
   "metadata": {},
   "outputs": [
    {
     "name": "stdout",
     "output_type": "stream",
     "text": [
      "[0, 0, 0, 0, 0, 0, 0, 0, 0]\n",
      "[0, 2, 2, 2, 2, 2, 2, 2, 2]\n",
      "[0, 2, 2, 4, 6, 6, 6, 6, 6]\n",
      "[0, 2, 2, 4, 6, 7, 9, 9, 11]\n",
      "[0, 2, 2, 4, 6, 7, 9, 10, 12]\n",
      "Maximum Profit is:  12\n"
     ]
    }
   ],
   "source": [
    "# (1) Tesing our Algorithm with sample data\n",
    "profit = [2,4,7,10]\n",
    "weight = [1,3,5,7]\n",
    "capacity = 8\n",
    "print(\"Maximum Profit is: \", ZeroOneKnapsack_Algorithm(capacity, weight, profit, len(profit)))"
   ]
  },
  {
   "cell_type": "code",
   "execution_count": 4,
   "id": "0697560e",
   "metadata": {},
   "outputs": [
    {
     "name": "stdout",
     "output_type": "stream",
     "text": [
      "[0, 0, 0, 0, 0, 0, 0, 0, 0, 0, 0, 0]\n",
      "[0, 0, 0, 3, 3, 3, 3, 3, 3, 3, 3, 3]\n",
      "[0, 0, 0, 3, 4, 4, 4, 7, 7, 7, 7, 7]\n",
      "[0, 0, 0, 3, 4, 4, 4, 7, 7, 8, 8, 8]\n",
      "[0, 0, 0, 3, 4, 4, 4, 7, 7, 10, 10, 10]\n",
      "[0, 0, 0, 3, 4, 4, 4, 7, 8, 10, 10, 11]\n",
      "Maximum Profit is:  11\n"
     ]
    }
   ],
   "source": [
    "# (2) Tesing our Algorithm with sample data\n",
    "profit = [3,4,4,10,4]\n",
    "weight = [3,4,5,9,4]\n",
    "capacity = 11\n",
    "print(\"Maximum Profit is: \", ZeroOneKnapsack_Algorithm(capacity, weight, profit, len(profit)))"
   ]
  },
  {
   "cell_type": "code",
   "execution_count": 5,
   "id": "3d5755df",
   "metadata": {},
   "outputs": [
    {
     "name": "stdout",
     "output_type": "stream",
     "text": [
      "[0, 0, 0, 0, 0, 0, 0, 0, 0, 0, 0, 0, 0, 0, 0, 0, 0, 0, 0, 0, 0, 0, 0, 0, 0, 0, 0, 0, 0, 0, 0]\n",
      "[0, 0, 0, 0, 0, 50, 50, 50, 50, 50, 50, 50, 50, 50, 50, 50, 50, 50, 50, 50, 50, 50, 50, 50, 50, 50, 50, 50, 50, 50, 50]\n",
      "[0, 0, 0, 0, 0, 50, 50, 50, 50, 50, 60, 60, 60, 60, 60, 110, 110, 110, 110, 110, 110, 110, 110, 110, 110, 110, 110, 110, 110, 110, 110]\n",
      "[0, 0, 0, 0, 0, 50, 50, 50, 50, 50, 60, 60, 60, 60, 60, 110, 110, 110, 110, 110, 140, 140, 140, 140, 140, 190, 190, 190, 190, 190, 200]\n",
      "Maximum Profit is:  200\n"
     ]
    }
   ],
   "source": [
    "# (3) Tesing our Algorithm with sample data\n",
    "profit = [50,60,140]\n",
    "weight = [5,10,20]\n",
    "capacity = 30\n",
    "print(\"Maximum Profit is: \", ZeroOneKnapsack_Algorithm(capacity, weight, profit, len(profit)))"
   ]
  }
 ],
 "metadata": {
  "kernelspec": {
   "display_name": "Python 3 (ipykernel)",
   "language": "python",
   "name": "python3"
  },
  "language_info": {
   "codemirror_mode": {
    "name": "ipython",
    "version": 3
   },
   "file_extension": ".py",
   "mimetype": "text/x-python",
   "name": "python",
   "nbconvert_exporter": "python",
   "pygments_lexer": "ipython3",
   "version": "3.9.12"
  }
 },
 "nbformat": 4,
 "nbformat_minor": 5
}
